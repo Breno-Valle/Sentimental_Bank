{
 "cells": [
  {
   "cell_type": "code",
   "execution_count": 1,
   "metadata": {
    "scrolled": true
   },
   "outputs": [],
   "source": [
    "import findspark\n",
    "findspark.init()\n",
    "import pyspark as ps\n",
    "import pickle\n",
    "import pyodbc"
   ]
  },
  {
   "cell_type": "code",
   "execution_count": 2,
   "metadata": {},
   "outputs": [],
   "source": [
    "spark = ps.sql.SparkSession.builder \\\n",
    "        .master('local[1]') \\\n",
    "        .appName('Sentimental-bank-processing') \\\n",
    "        .getOrCreate()\n",
    "sc = spark.sparkContext  "
   ]
  },
  {
   "cell_type": "code",
   "execution_count": 3,
   "metadata": {},
   "outputs": [],
   "source": [
    "path = r'C:\\Users\\Breno\\Documents\\ComputerScience\\sentimental_bank\\arquivo'"
   ]
  },
  {
   "cell_type": "code",
   "execution_count": 4,
   "metadata": {},
   "outputs": [],
   "source": [
    "with open(path, 'rb') as arq:\n",
    "    tw_dict = pickle.load(arq)"
   ]
  },
  {
   "cell_type": "code",
   "execution_count": 5,
   "metadata": {},
   "outputs": [
    {
     "data": {
      "text/plain": [
       "'Rio de Janeiro'"
      ]
     },
     "execution_count": 5,
     "metadata": {},
     "output_type": "execute_result"
    }
   ],
   "source": [
    "tw_dict['location'][3].decode('utf-8')[:tw_dict['location'][3].decode('utf-8').index(\",\")]"
   ]
  },
  {
   "cell_type": "code",
   "execution_count": 6,
   "metadata": {},
   "outputs": [
    {
     "data": {
      "text/plain": [
       "dict_keys(['date', 'text', 'number_followers', 'number_friends', 'location'])"
      ]
     },
     "execution_count": 6,
     "metadata": {},
     "output_type": "execute_result"
    }
   ],
   "source": [
    "tw_dict.keys()"
   ]
  },
  {
   "cell_type": "code",
   "execution_count": 7,
   "metadata": {},
   "outputs": [],
   "source": [
    "class Find_Metrics:\n",
    "    def __init__(self, dict):\n",
    "        self.dict = dict\n",
    "        self.number_followers = [number for number in tw_dict['number_followers']]\n",
    "        self.date = [day for day in tw_dict['date']]\n",
    "        self.number_friends = [n_friends for n_friends in tw_dict['number_friends']]\n",
    "        self.location = [local for local in tw_dict['location']]\n",
    "        \n",
    "    def total_number_followers(self):\n",
    "        total = sc.parallelize(self.number_followers) \\\n",
    "                .map(lambda x: int(x)) \\\n",
    "                .sum()\n",
    "        return total\n",
    "    \n",
    "    def followers_mean(self):\n",
    "        mean = sc.parallelize(self.number_followers) \\\n",
    "                .map(lambda x: int(x)) \\\n",
    "                .mean()\n",
    "        return mean\n",
    "    \n",
    "    def followers_stdev(self):\n",
    "        stdev = sc.parallelize(self.number_followers) \\\n",
    "                .map(lambda x: int(x)) \\\n",
    "                .stdev()\n",
    "        return stdev\n",
    "    \n",
    "    def total_number_friends(self):\n",
    "        total = sc.parallelize(self.number_friends) \\\n",
    "                .map(lambda x: int(x)) \\\n",
    "                .sum()\n",
    "        return total\n",
    "    \n",
    "    def friends_mean(self):\n",
    "        mean = sc.parallelize(self.number_friends) \\\n",
    "                .map(lambda x: int(x)) \\\n",
    "                .mean()\n",
    "        return mean\n",
    "    \n",
    "    def friends_stdev(self):\n",
    "        stdev = sc.parallelize(self.number_friends) \\\n",
    "                .map(lambda x: int(x)) \\\n",
    "                .stdev()\n",
    "        return stdev\n",
    "    \n",
    "    def day_of_year(self):\n",
    "        day = sc.parallelize(self.date) \\\n",
    "                .map(lambda x: x.decode('utf-8')[0:10]) \\\n",
    "                .take(1)\n",
    "        return day\n",
    "    \n",
    "    def city(self):\n",
    "        loc = sc.parallelize(self.location) \\\n",
    "                .map(lambda x: x.decode('utf-8').lower()) \\\n",
    "                .filter(lambda x: x != '') \\\n",
    "                .collect()\n",
    "        return loc"
   ]
  },
  {
   "cell_type": "code",
   "execution_count": 8,
   "metadata": {},
   "outputs": [],
   "source": [
    "metrics =  Find_Metrics(tw_dict)\n",
    "\n",
    "total_followers = metrics.total_number_followers()\n",
    "followers_mean = metrics.followers_mean()\n",
    "followers_stdev = metrics.followers_stdev()\n",
    "total_friends = metrics.total_number_friends()\n",
    "friends_mean = metrics.friends_mean()\n",
    "friends_stdev = metrics.friends_stdev()\n",
    "day = metrics.day_of_year()"
   ]
  },
  {
   "cell_type": "code",
   "execution_count": 9,
   "metadata": {},
   "outputs": [
    {
     "data": {
      "text/plain": [
       "['2021-10-16']"
      ]
     },
     "execution_count": 9,
     "metadata": {},
     "output_type": "execute_result"
    }
   ],
   "source": [
    "day"
   ]
  },
  {
   "cell_type": "code",
   "execution_count": 10,
   "metadata": {},
   "outputs": [
    {
     "name": "stdout",
     "output_type": "stream",
     "text": [
      "+---------------+-----------------+-----------------+--------------+------------+------------------+-------------+\n",
      "|Followera_total|   Followers_mean|  Followers_stdev|Friendsd_total|Friends_mean|     Friends_stdev|Time_Of_Query|\n",
      "+---------------+-----------------+-----------------+--------------+------------+------------------+-------------+\n",
      "|    2.7507142E7|275071.4199999999|1830738.280370431|      109853.0|     1098.53|3853.7817386432253|   2021-10-16|\n",
      "+---------------+-----------------+-----------------+--------------+------------+------------------+-------------+\n",
      "\n"
     ]
    }
   ],
   "source": [
    "from datetime import datetime\n",
    "df = sc.parallelize([(float(total_followers),\n",
    "                     float(followers_mean),\n",
    "                     float(followers_stdev),\n",
    "                     float(total_friends),\n",
    "                     float(friends_mean),\n",
    "                     float(friends_stdev),\n",
    "                     str(day[0]))]).toDF([\n",
    "    'Followera_total',\n",
    "    'Followers_mean',\n",
    "    'Followers_stdev',\n",
    "    'Friendsd_total',\n",
    "    'Friends_mean',\n",
    "    'Friends_stdev',\n",
    "    'Time_Of_Query'\n",
    "])\n",
    "\n",
    "df.show()"
   ]
  },
  {
   "cell_type": "code",
   "execution_count": null,
   "metadata": {
    "scrolled": true
   },
   "outputs": [],
   "source": [
    "conn = pyodbc.connect('Driver={SQL Server};'\n",
    "                      'Server=DESKTOP-HL3J42P\\SQLEXPRESS;'\n",
    "                      'Database=dbSentimental_Bank;'\n",
    "                      'Trusted_Connection=yes;')\n",
    "\n",
    "cursor = conn.cursor()\n",
    "cursor.execute('SELECT * FROM tb_Stats_Science')\n",
    "\n",
    "cursor.fetchall()"
   ]
  },
  {
   "cell_type": "code",
   "execution_count": null,
   "metadata": {},
   "outputs": [],
   "source": []
  },
  {
   "cell_type": "code",
   "execution_count": null,
   "metadata": {},
   "outputs": [],
   "source": []
  },
  {
   "cell_type": "code",
   "execution_count": null,
   "metadata": {},
   "outputs": [],
   "source": []
  },
  {
   "cell_type": "code",
   "execution_count": null,
   "metadata": {},
   "outputs": [],
   "source": []
  },
  {
   "cell_type": "code",
   "execution_count": null,
   "metadata": {},
   "outputs": [],
   "source": []
  },
  {
   "cell_type": "code",
   "execution_count": null,
   "metadata": {},
   "outputs": [],
   "source": []
  },
  {
   "cell_type": "code",
   "execution_count": null,
   "metadata": {},
   "outputs": [],
   "source": []
  }
 ],
 "metadata": {
  "kernelspec": {
   "display_name": "Python 3",
   "language": "python",
   "name": "python3"
  },
  "language_info": {
   "codemirror_mode": {
    "name": "ipython",
    "version": 3
   },
   "file_extension": ".py",
   "mimetype": "text/x-python",
   "name": "python",
   "nbconvert_exporter": "python",
   "pygments_lexer": "ipython3",
   "version": "3.8.3"
  }
 },
 "nbformat": 4,
 "nbformat_minor": 4
}
