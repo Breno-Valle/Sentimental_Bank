{
 "cells": [
  {
   "cell_type": "code",
   "execution_count": 1,
   "metadata": {
    "scrolled": true
   },
   "outputs": [],
   "source": [
    "import findspark\n",
    "findspark.init()\n",
    "import pyspark as ps\n",
    "import pickle"
   ]
  },
  {
   "cell_type": "code",
   "execution_count": 2,
   "metadata": {},
   "outputs": [],
   "source": [
    "spark = ps.sql.SparkSession.builder \\\n",
    "        .master('local[1]') \\\n",
    "        .appName('Sentimental-bank-processing') \\\n",
    "        .getOrCreate()\n",
    "sc = spark.sparkContext  "
   ]
  },
  {
   "cell_type": "code",
   "execution_count": 3,
   "metadata": {},
   "outputs": [],
   "source": [
    "path = r'C:\\Users\\Breno\\Documents\\ComputerScience\\sentimental_bank\\arquivo'"
   ]
  },
  {
   "cell_type": "code",
   "execution_count": 4,
   "metadata": {},
   "outputs": [],
   "source": [
    "with open(path, 'rb') as arq:\n",
    "    tw_dict = pickle.load(arq)"
   ]
  },
  {
   "cell_type": "code",
   "execution_count": 5,
   "metadata": {},
   "outputs": [
    {
     "data": {
      "text/plain": [
       "'Rio de Janeiro'"
      ]
     },
     "execution_count": 5,
     "metadata": {},
     "output_type": "execute_result"
    }
   ],
   "source": [
    "tw_dict['location'][3].decode('utf-8')[:tw_dict['location'][3].decode('utf-8').index(\",\")]"
   ]
  },
  {
   "cell_type": "code",
   "execution_count": 22,
   "metadata": {},
   "outputs": [
    {
     "data": {
      "text/plain": [
       "dict_keys(['date', 'text', 'number_followers', 'number_friends', 'location'])"
      ]
     },
     "execution_count": 22,
     "metadata": {},
     "output_type": "execute_result"
    }
   ],
   "source": [
    "tw_dict.keys()"
   ]
  },
  {
   "cell_type": "code",
   "execution_count": 41,
   "metadata": {},
   "outputs": [],
   "source": [
    "class Find_Metrics:\n",
    "    def __init__(self, dict):\n",
    "        self.dict = dict\n",
    "        self.number_followers = [number for number in tw_dict['number_followers']]\n",
    "        self.date = [day for day in tw_dict['date']]\n",
    "        self.number_friends = [n_friends for n_friends in tw_dict['number_friends']]\n",
    "        self.location = [local for local in tw_dict['location']]\n",
    "        \n",
    "    def total_number_folowers(self):\n",
    "        total = sc.parallelize(self.number_followers) \\\n",
    "                .map(lambda x: int(x)) \\\n",
    "                .sum()\n",
    "        return total\n",
    "    \n",
    "    def followers_mean(self):\n",
    "        mean = sc.parallelize(self.number_followers) \\\n",
    "                .map(lambda x: int(x)) \\\n",
    "                .mean()\n",
    "        return mean\n",
    "    \n",
    "    def followers_stdev(self):\n",
    "        stdev = sc.parallelize(self.number_followers) \\\n",
    "                .map(lambda x: int(x)) \\\n",
    "                .stdev()\n",
    "        return stdev\n",
    "    \n",
    "    def total_number_friends(self):\n",
    "        total = sc.parallelize(self.number_friends) \\\n",
    "                .map(lambda x: int(x)) \\\n",
    "                .sum()\n",
    "        return total\n",
    "    \n",
    "    def friends_mean(self):\n",
    "        mean = sc.parallelize(self.number_friends) \\\n",
    "                .map(lambda x: int(x)) \\\n",
    "                .mean()\n",
    "        return mean\n",
    "    \n",
    "    def friends_stdev(self):\n",
    "        stdev = sc.parallelize(self.number_friends) \\\n",
    "                .map(lambda x: int(x)) \\\n",
    "                .stdev()\n",
    "        return stdev\n",
    "    \n",
    "    def day_of_year(self):\n",
    "        day = sc.parallelize(self.date) \\\n",
    "                .map(lambda x: x.decode('utf-8')[0:10]) \\\n",
    "                .take(1)\n",
    "        return day\n",
    "    \n",
    "    def city(self):\n",
    "        loc = sc.parallelize(self.location) \\\n",
    "                .map(lambda x: x.decode('utf-8').lower()) \\\n",
    "                .filter(lambda x: x != '') \\\n",
    "                .collect()\n",
    "        return loc\n",
    "    "
   ]
  },
  {
   "cell_type": "code",
   "execution_count": 43,
   "metadata": {},
   "outputs": [
    {
     "data": {
      "text/plain": [
       "['brasil',\n",
       " 'rio de janeiro, brazil',\n",
       " 'ilha solteira, brasil',\n",
       " 'curitiba - paraná',\n",
       " 'brasil',\n",
       " 'ilha solteira, brasil',\n",
       " 'são paulo',\n",
       " 'são paulo',\n",
       " 'porto alegre, brasil',\n",
       " 'belo horizonte',\n",
       " 'bauru, brasil',\n",
       " 'hanover, nh',\n",
       " 'brasília, brasil',\n",
       " 'são paulo',\n",
       " 'joão pessoa, brasil',\n",
       " 'pelotas, rs, brasil.',\n",
       " 'brazil',\n",
       " 'são paulo',\n",
       " 'caraúbas-rn',\n",
       " 'brasil',\n",
       " 'rio de janeiro',\n",
       " 'ilha solteira, brasil',\n",
       " 'são paulo',\n",
       " 'planeta terra 🌎',\n",
       " 'brasil',\n",
       " 'são paulo, brasil',\n",
       " 'rio de janeiro',\n",
       " 'são paulo, brasil',\n",
       " 'rio de janeiro, brasil',\n",
       " 'rio de janeiro, brasil',\n",
       " 'são paulo, brasil',\n",
       " 'são paulo',\n",
       " 'belo horizonte/mg',\n",
       " 'rua general bruce, 586 - rio',\n",
       " 'são luís, brasil',\n",
       " 'sudeste do brasil',\n",
       " 'brasil',\n",
       " 'salvador, bahia - brasil',\n",
       " 'lisboa',\n",
       " 'são paulo',\n",
       " 'goiânia',\n",
       " 'rio de janeiro',\n",
       " 'lisbon, portugal',\n",
       " 'online',\n",
       " 'goiânia',\n",
       " 'são paulo',\n",
       " 'são paulo',\n",
       " 'rua general bruce, 586 - rio',\n",
       " 'belo horizonte/mg',\n",
       " 'ilha solteira, brasil',\n",
       " 'brazil',\n",
       " 'natal, brasil',\n",
       " 'brasília-df',\n",
       " 'niterói, brasil',\n",
       " 'brasil',\n",
       " 'lisbon, portugal',\n",
       " 'piauí, brasil',\n",
       " 'rio de janeiro, brasil',\n",
       " 'niterói - rj',\n",
       " 'santo andré, sp - brasil',\n",
       " 'brasil',\n",
       " 'santo andré, sp - brasil',\n",
       " 'são paulo, sp',\n",
       " 'belo horizonte',\n",
       " 'santa catarina',\n",
       " 'são paulo, brasil',\n",
       " 'brasília, brasil',\n",
       " 'brasília, brasil',\n",
       " 'belo horizonte ',\n",
       " 'são paulo (sp) - brasil',\n",
       " 'são paulo (sp) - brasil',\n",
       " 'campinas - sp - brasil',\n",
       " 'campinas - sp - brasil',\n",
       " 'porto alegre, rs, brazil',\n",
       " 'porto alegre',\n",
       " 'santa maria, rs, brasil',\n",
       " 'são paulo',\n",
       " 'fuck',\n",
       " 'brasil']"
      ]
     },
     "execution_count": 43,
     "metadata": {},
     "output_type": "execute_result"
    }
   ],
   "source": [
    "teste = Find_Metrics(tw_dict)\n",
    "teste.city()"
   ]
  },
  {
   "cell_type": "code",
   "execution_count": null,
   "metadata": {},
   "outputs": [],
   "source": []
  },
  {
   "cell_type": "code",
   "execution_count": null,
   "metadata": {},
   "outputs": [],
   "source": []
  },
  {
   "cell_type": "code",
   "execution_count": null,
   "metadata": {},
   "outputs": [],
   "source": []
  },
  {
   "cell_type": "code",
   "execution_count": null,
   "metadata": {},
   "outputs": [],
   "source": []
  },
  {
   "cell_type": "code",
   "execution_count": null,
   "metadata": {},
   "outputs": [],
   "source": []
  },
  {
   "cell_type": "code",
   "execution_count": null,
   "metadata": {},
   "outputs": [],
   "source": []
  },
  {
   "cell_type": "code",
   "execution_count": null,
   "metadata": {},
   "outputs": [],
   "source": []
  },
  {
   "cell_type": "code",
   "execution_count": null,
   "metadata": {},
   "outputs": [],
   "source": []
  }
 ],
 "metadata": {
  "kernelspec": {
   "display_name": "Python 3",
   "language": "python",
   "name": "python3"
  },
  "language_info": {
   "codemirror_mode": {
    "name": "ipython",
    "version": 3
   },
   "file_extension": ".py",
   "mimetype": "text/x-python",
   "name": "python",
   "nbconvert_exporter": "python",
   "pygments_lexer": "ipython3",
   "version": "3.8.3"
  }
 },
 "nbformat": 4,
 "nbformat_minor": 4
}
