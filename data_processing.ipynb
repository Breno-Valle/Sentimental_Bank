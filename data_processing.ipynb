{
 "cells": [
  {
   "cell_type": "code",
   "execution_count": 1,
   "metadata": {
    "scrolled": true
   },
   "outputs": [],
   "source": [
    "import findspark\n",
    "findspark.init()\n",
    "import pyspark as ps\n",
    "import pickle\n",
    "import pyodbc"
   ]
  },
  {
   "cell_type": "code",
   "execution_count": 2,
   "metadata": {},
   "outputs": [],
   "source": [
    "spark = ps.sql.SparkSession.builder \\\n",
    "        .master('local[1]') \\\n",
    "        .appName('Sentimental-bank-processing') \\\n",
    "        .getOrCreate()\n",
    "sc = spark.sparkContext  "
   ]
  },
  {
   "cell_type": "code",
   "execution_count": 3,
   "metadata": {},
   "outputs": [],
   "source": [
    "path = r'C:\\Users\\Breno\\Documents\\ComputerScience\\sentimental_bank\\arquivo'"
   ]
  },
  {
   "cell_type": "code",
   "execution_count": 4,
   "metadata": {},
   "outputs": [],
   "source": [
    "with open(path, 'rb') as arq:\n",
    "    tw_dict = pickle.load(arq)"
   ]
  },
  {
   "cell_type": "code",
   "execution_count": 5,
   "metadata": {},
   "outputs": [
    {
     "data": {
      "text/plain": [
       "'Rio de Janeiro'"
      ]
     },
     "execution_count": 5,
     "metadata": {},
     "output_type": "execute_result"
    }
   ],
   "source": [
    "tw_dict['location'][3].decode('utf-8')[:tw_dict['location'][3].decode('utf-8').index(\",\")]"
   ]
  },
  {
   "cell_type": "code",
   "execution_count": 6,
   "metadata": {},
   "outputs": [
    {
     "data": {
      "text/plain": [
       "dict_keys(['date', 'text', 'number_followers', 'number_friends', 'location'])"
      ]
     },
     "execution_count": 6,
     "metadata": {},
     "output_type": "execute_result"
    }
   ],
   "source": [
    "tw_dict.keys()"
   ]
  },
  {
   "cell_type": "code",
   "execution_count": 7,
   "metadata": {},
   "outputs": [],
   "source": [
    "class Find_Metrics:\n",
    "    def __init__(self, dict):\n",
    "        self.dict = dict\n",
    "        self.number_followers = [number for number in tw_dict['number_followers']]\n",
    "        self.date = [day for day in tw_dict['date']]\n",
    "        self.number_friends = [n_friends for n_friends in tw_dict['number_friends']]\n",
    "        self.location = [local for local in tw_dict['location']]\n",
    "        \n",
    "    def total_number_followers(self):\n",
    "        total = sc.parallelize(self.number_followers) \\\n",
    "                .map(lambda x: int(x)) \\\n",
    "                .sum()\n",
    "        return total\n",
    "    \n",
    "    def followers_mean(self):\n",
    "        mean = sc.parallelize(self.number_followers) \\\n",
    "                .map(lambda x: int(x)) \\\n",
    "                .mean()\n",
    "        return mean\n",
    "    \n",
    "    def followers_stdev(self):\n",
    "        stdev = sc.parallelize(self.number_followers) \\\n",
    "                .map(lambda x: int(x)) \\\n",
    "                .stdev()\n",
    "        return stdev\n",
    "    \n",
    "    def total_number_friends(self):\n",
    "        total = sc.parallelize(self.number_friends) \\\n",
    "                .map(lambda x: int(x)) \\\n",
    "                .sum()\n",
    "        return total\n",
    "    \n",
    "    def friends_mean(self):\n",
    "        mean = sc.parallelize(self.number_friends) \\\n",
    "                .map(lambda x: int(x)) \\\n",
    "                .mean()\n",
    "        return mean\n",
    "    \n",
    "    def friends_stdev(self):\n",
    "        stdev = sc.parallelize(self.number_friends) \\\n",
    "                .map(lambda x: int(x)) \\\n",
    "                .stdev()\n",
    "        return stdev\n",
    "    \n",
    "    def day_of_year(self):\n",
    "        day = sc.parallelize(self.date) \\\n",
    "                .map(lambda x: x.decode('utf-8')[0:10]) \\\n",
    "                .take(1)\n",
    "        return day\n",
    "    \n",
    "    def city(self):\n",
    "        loc = sc.parallelize(self.location) \\\n",
    "                .map(lambda x: x.decode('utf-8').lower()) \\\n",
    "                .filter(lambda x: x != '') \\\n",
    "                .collect()\n",
    "        return loc"
   ]
  },
  {
   "cell_type": "code",
   "execution_count": 8,
   "metadata": {},
   "outputs": [],
   "source": [
    "metrics =  Find_Metrics(tw_dict)\n",
    "\n",
    "total_followers = metrics.total_number_followers()\n",
    "followers_mean = metrics.followers_mean()\n",
    "followers_stdev = metrics.followers_stdev()\n",
    "total_friends = metrics.total_number_friends()\n",
    "friends_mean = metrics.friends_mean()\n",
    "friends_stdev = metrics.friends_stdev()\n",
    "day = metrics.day_of_year()"
   ]
  },
  {
   "cell_type": "code",
   "execution_count": 9,
   "metadata": {},
   "outputs": [
    {
     "data": {
      "text/plain": [
       "['2021-10-16']"
      ]
     },
     "execution_count": 9,
     "metadata": {},
     "output_type": "execute_result"
    }
   ],
   "source": [
    "day"
   ]
  },
  {
   "cell_type": "code",
   "execution_count": 10,
   "metadata": {},
   "outputs": [
    {
     "name": "stdout",
     "output_type": "stream",
     "text": [
      "+---------------+-----------------+-----------------+--------------+------------+------------------+-------------+\n",
      "|Followers_total|   Followers_mean|  Followers_stdev|Friendsd_total|Friends_mean|     Friends_stdev|Time_Of_Query|\n",
      "+---------------+-----------------+-----------------+--------------+------------+------------------+-------------+\n",
      "|    2.7507142E7|275071.4199999999|1830738.280370431|      109853.0|     1098.53|3853.7817386432253|   2021-10-16|\n",
      "+---------------+-----------------+-----------------+--------------+------------+------------------+-------------+\n",
      "\n"
     ]
    }
   ],
   "source": [
    "from datetime import datetime\n",
    "df = sc.parallelize([(float(total_followers),\n",
    "                     float(followers_mean),\n",
    "                     float(followers_stdev),\n",
    "                     float(total_friends),\n",
    "                     float(friends_mean),\n",
    "                     float(friends_stdev),\n",
    "                     str(day[0]))]).toDF([\n",
    "    'Followers_total',\n",
    "    'Followers_mean',\n",
    "    'Followers_stdev',\n",
    "    'Friendsd_total',\n",
    "    'Friends_mean',\n",
    "    'Friends_stdev',\n",
    "    'Time_Of_Query'\n",
    "])\n",
    "\n",
    "df.show()"
   ]
  },
  {
   "cell_type": "code",
   "execution_count": null,
   "metadata": {},
   "outputs": [],
   "source": [
    "df.collect()"
   ]
  },
  {
   "cell_type": "code",
   "execution_count": 24,
   "metadata": {},
   "outputs": [
    {
     "ename": "AttributeError",
     "evalue": "'DataFrame' object has no attribute 'top'",
     "output_type": "error",
     "traceback": [
      "\u001b[1;31m---------------------------------------------------------------------------\u001b[0m",
      "\u001b[1;31mAttributeError\u001b[0m                            Traceback (most recent call last)",
      "\u001b[1;32m<ipython-input-24-dc150e5345cb>\u001b[0m in \u001b[0;36m<module>\u001b[1;34m\u001b[0m\n\u001b[1;32m----> 1\u001b[1;33m \u001b[0mdf\u001b[0m\u001b[1;33m.\u001b[0m\u001b[0mtop\u001b[0m\u001b[1;33m(\u001b[0m\u001b[1;36m3\u001b[0m\u001b[1;33m)\u001b[0m\u001b[1;33m\u001b[0m\u001b[1;33m\u001b[0m\u001b[0m\n\u001b[0m",
      "\u001b[1;32m~\\Desktop\\Spark\\spark-3.1.1-bin-hadoop2.7\\python\\pyspark\\sql\\dataframe.py\u001b[0m in \u001b[0;36m__getattr__\u001b[1;34m(self, name)\u001b[0m\n\u001b[0;32m   1641\u001b[0m         \"\"\"\n\u001b[0;32m   1642\u001b[0m         \u001b[1;32mif\u001b[0m \u001b[0mname\u001b[0m \u001b[1;32mnot\u001b[0m \u001b[1;32min\u001b[0m \u001b[0mself\u001b[0m\u001b[1;33m.\u001b[0m\u001b[0mcolumns\u001b[0m\u001b[1;33m:\u001b[0m\u001b[1;33m\u001b[0m\u001b[1;33m\u001b[0m\u001b[0m\n\u001b[1;32m-> 1643\u001b[1;33m             raise AttributeError(\n\u001b[0m\u001b[0;32m   1644\u001b[0m                 \"'%s' object has no attribute '%s'\" % (self.__class__.__name__, name))\n\u001b[0;32m   1645\u001b[0m         \u001b[0mjc\u001b[0m \u001b[1;33m=\u001b[0m \u001b[0mself\u001b[0m\u001b[1;33m.\u001b[0m\u001b[0m_jdf\u001b[0m\u001b[1;33m.\u001b[0m\u001b[0mapply\u001b[0m\u001b[1;33m(\u001b[0m\u001b[0mname\u001b[0m\u001b[1;33m)\u001b[0m\u001b[1;33m\u001b[0m\u001b[1;33m\u001b[0m\u001b[0m\n",
      "\u001b[1;31mAttributeError\u001b[0m: 'DataFrame' object has no attribute 'top'"
     ]
    }
   ],
   "source": [
    "df.top(3)"
   ]
  },
  {
   "cell_type": "code",
   "execution_count": 12,
   "metadata": {},
   "outputs": [
    {
     "ename": "NameError",
     "evalue": "name 'Followers_total' is not defined",
     "output_type": "error",
     "traceback": [
      "\u001b[1;31m---------------------------------------------------------------------------\u001b[0m",
      "\u001b[1;31mNameError\u001b[0m                                 Traceback (most recent call last)",
      "\u001b[1;32m<ipython-input-12-32830ad6a748>\u001b[0m in \u001b[0;36m<module>\u001b[1;34m\u001b[0m\n\u001b[1;32m----> 1\u001b[1;33m \u001b[0mstring\u001b[0m \u001b[1;33m=\u001b[0m \u001b[1;34mf'INSERT INTO (Followers_total, Followers_mean, Followers_stdev, Friends_total, Friends_mean,Friends_stdev, Time_Of_Query) VALUES ({Followers_total}, {Followers_mean}, {Followers_stdev}, {Friends_total}, {Friends_mean}, {Friends_stdev}, {Time_Of_Query})'\u001b[0m\u001b[1;33m\u001b[0m\u001b[1;33m\u001b[0m\u001b[0m\n\u001b[0m",
      "\u001b[1;31mNameError\u001b[0m: name 'Followers_total' is not defined"
     ]
    }
   ],
   "source": [
    "string = f'INSERT INTO (Followers_total, Followers_mean, Followers_stdev, Friends_total, Friends_mean,Friends_stdev, Time_Of_Query) VALUES ({Followers_total}, {Followers_mean}, {Followers_stdev}, {Friends_total}, {Friends_mean}, {Friends_stdev}, {Time_Of_Query})'"
   ]
  },
  {
   "cell_type": "code",
   "execution_count": null,
   "metadata": {},
   "outputs": [],
   "source": [
    "'''\n",
    "Followers_total = 12345\n",
    "Followers_mean = 1 \n",
    "Followers_stdev = 1543\n",
    "string = f'INSERT INTO (Followeras_total, Followers_mean, Followers_stdev)\n",
    "            VALUES ({Followers_total},{Followers_mean},{Followers_stdev})'\n",
    "print(string)'''"
   ]
  },
  {
   "cell_type": "code",
   "execution_count": null,
   "metadata": {
    "scrolled": true
   },
   "outputs": [],
   "source": [
    "'''conn = pyodbc.connect('Driver={SQL Server};'\n",
    "                      'Server=DESKTOP-HL3J42P\\SQLEXPRESS;'\n",
    "                      'Database=dbSentimental_Bank;'\n",
    "                      'Trusted_Connection=yes;')\n",
    "\n",
    "cursor = conn.cursor()\n",
    "cursor.execute('INSERT INTO tb_Stats_Science (Followers_total,Followers_mean, Followers_stdev, Friends_total, Friends_mean,Friends_stdev) VALUES (1,1,1,1,1,1)')\n",
    "cursor.commit()\n",
    "cursor.execute('SELECT *  FROM tb_Stats_Science')\n",
    "cursor.fetchall()'''"
   ]
  },
  {
   "cell_type": "code",
   "execution_count": null,
   "metadata": {},
   "outputs": [],
   "source": []
  },
  {
   "cell_type": "code",
   "execution_count": null,
   "metadata": {},
   "outputs": [],
   "source": []
  },
  {
   "cell_type": "code",
   "execution_count": null,
   "metadata": {},
   "outputs": [],
   "source": []
  },
  {
   "cell_type": "code",
   "execution_count": null,
   "metadata": {},
   "outputs": [],
   "source": []
  },
  {
   "cell_type": "code",
   "execution_count": null,
   "metadata": {},
   "outputs": [],
   "source": []
  },
  {
   "cell_type": "code",
   "execution_count": null,
   "metadata": {},
   "outputs": [],
   "source": []
  },
  {
   "cell_type": "code",
   "execution_count": null,
   "metadata": {},
   "outputs": [],
   "source": []
  }
 ],
 "metadata": {
  "kernelspec": {
   "display_name": "Python 3",
   "language": "python",
   "name": "python3"
  },
  "language_info": {
   "codemirror_mode": {
    "name": "ipython",
    "version": 3
   },
   "file_extension": ".py",
   "mimetype": "text/x-python",
   "name": "python",
   "nbconvert_exporter": "python",
   "pygments_lexer": "ipython3",
   "version": "3.8.3"
  }
 },
 "nbformat": 4,
 "nbformat_minor": 4
}
